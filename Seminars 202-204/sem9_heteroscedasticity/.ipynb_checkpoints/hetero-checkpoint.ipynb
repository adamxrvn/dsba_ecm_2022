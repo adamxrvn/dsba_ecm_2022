{
 "cells": [
  {
   "cell_type": "code",
   "execution_count": 1,
   "id": "2a68d1a0",
   "metadata": {
    "ExecuteTime": {
     "end_time": "2021-11-12T16:12:47.247895Z",
     "start_time": "2021-11-12T16:12:47.233Z"
    }
   },
   "outputs": [],
   "source": [
    "x <- seq(5,54)\n",
    "e <- x*rnorm(length(x), 0, 1)\n",
    "y <- 10+2*x+e"
   ]
  },
  {
   "cell_type": "code",
   "execution_count": 3,
   "id": "dd4ee62f",
   "metadata": {
    "ExecuteTime": {
     "end_time": "2021-11-12T16:13:18.687902Z",
     "start_time": "2021-11-12T16:13:18.630Z"
    }
   },
   "outputs": [
    {
     "data": {
      "image/png": "[encoded data removed]",
      "text/plain": [
       "plot without title"
      ]
     },
     "metadata": {
      "image/png": {
       "height": 420,
       "width": 420
      }
     },
     "output_type": "display_data"
    }
   ],
   "source": [
    "plot(x,y)\n",
    "abline(lm(y~x))"
   ]
  },
  {
   "cell_type": "code",
   "execution_count": 4,
   "id": "59f1b32d",
   "metadata": {
    "ExecuteTime": {
     "end_time": "2021-11-12T16:14:24.076699Z",
     "start_time": "2021-11-12T16:14:24.053Z"
    }
   },
   "outputs": [
    {
     "data": {
      "text/plain": [
       "\n",
       "Call:\n",
       "lm(formula = y ~ x)\n",
       "\n",
       "Residuals:\n",
       "    Min      1Q  Median      3Q     Max \n",
       "-71.598 -14.842   3.181  11.837  85.141 \n",
       "\n",
       "Coefficients:\n",
       "            Estimate Std. Error t value Pr(>|t|)    \n",
       "(Intercept)   6.5153     9.2568   0.704    0.485    \n",
       "x             2.0666     0.2819   7.332 2.29e-09 ***\n",
       "---\n",
       "Signif. codes:  0 ‘***’ 0.001 ‘**’ 0.01 ‘*’ 0.05 ‘.’ 0.1 ‘ ’ 1\n",
       "\n",
       "Residual standard error: 28.76 on 48 degrees of freedom\n",
       "Multiple R-squared:  0.5283,\tAdjusted R-squared:  0.5184 \n",
       "F-statistic: 53.75 on 1 and 48 DF,  p-value: 2.285e-09\n"
      ]
     },
     "metadata": {},
     "output_type": "display_data"
    }
   ],
   "source": [
    "m1 <- lm(y~x)\n",
    "summary(m1)"
   ]
  },
  {
   "cell_type": "code",
   "execution_count": 5,
   "id": "bb9b8788",
   "metadata": {
    "ExecuteTime": {
     "end_time": "2021-11-12T16:15:37.289036Z",
     "start_time": "2021-11-12T16:15:37.273Z"
    }
   },
   "outputs": [
    {
     "data": {
      "text/plain": [
       "\n",
       "Call:\n",
       "lm(formula = y ~ x, weights = 1/x)\n",
       "\n",
       "Weighted Residuals:\n",
       "     Min       1Q   Median       3Q      Max \n",
       "-10.2881  -2.9187   0.6213   2.5766  11.9880 \n",
       "\n",
       "Coefficients:\n",
       "            Estimate Std. Error t value Pr(>|t|)    \n",
       "(Intercept)   8.2281     5.3074   1.550    0.128    \n",
       "x             2.0085     0.2182   9.207 3.53e-12 ***\n",
       "---\n",
       "Signif. codes:  0 ‘***’ 0.001 ‘**’ 0.01 ‘*’ 0.05 ‘.’ 0.1 ‘ ’ 1\n",
       "\n",
       "Residual standard error: 4.739 on 48 degrees of freedom\n",
       "Multiple R-squared:  0.6385,\tAdjusted R-squared:  0.6309 \n",
       "F-statistic: 84.76 on 1 and 48 DF,  p-value: 3.529e-12\n"
      ]
     },
     "metadata": {},
     "output_type": "display_data"
    }
   ],
   "source": [
    "m2 <- lm(y~x, weights=1/x)\n",
    "summary(m2)"
   ]
  },
  {
   "cell_type": "code",
   "execution_count": 2,
   "id": "8c528805",
   "metadata": {
    "ExecuteTime": {
     "end_time": "2021-11-16T14:20:59.084766Z",
     "start_time": "2021-11-16T14:20:59.007Z"
    }
   },
   "outputs": [],
   "source": [
    "library('sandwich')"
   ]
  },
  {
   "cell_type": "code",
   "execution_count": 8,
   "id": "95893f9c",
   "metadata": {
    "ExecuteTime": {
     "end_time": "2021-11-12T16:17:45.559397Z",
     "start_time": "2021-11-12T16:17:45.527Z"
    }
   },
   "outputs": [],
   "source": [
    "m1 <- lm(y~x)\n",
    "s1 <- summary(lm(y~x))"
   ]
  },
  {
   "cell_type": "code",
   "execution_count": 9,
   "id": "dac96681",
   "metadata": {
    "ExecuteTime": {
     "end_time": "2021-11-12T16:17:53.213659Z",
     "start_time": "2021-11-12T16:17:53.194Z"
    }
   },
   "outputs": [
    {
     "data": {
      "text/html": [
       "<table>\n",
       "<caption>A matrix: 2 × 4 of type dbl</caption>\n",
       "<thead>\n",
       "\t<tr><th></th><th scope=col>Estimate</th><th scope=col>Std. Error</th><th scope=col>t value</th><th scope=col>Pr(&gt;|t|)</th></tr>\n",
       "</thead>\n",
       "<tbody>\n",
       "\t<tr><th scope=row>(Intercept)</th><td>6.515304</td><td>9.2568195</td><td>0.7038383</td><td>4.849341e-01</td></tr>\n",
       "\t<tr><th scope=row>x</th><td>2.066560</td><td>0.2818719</td><td>7.3315600</td><td>2.285410e-09</td></tr>\n",
       "</tbody>\n",
       "</table>\n"
      ],
      "text/latex": [
       "A matrix: 2 × 4 of type dbl\n",
       "\\begin{tabular}{r|llll}\n",
       "  & Estimate & Std. Error & t value & Pr(>\\textbar{}t\\textbar{})\\\\\n",
       "\\hline\n",
       "\t(Intercept) & 6.515304 & 9.2568195 & 0.7038383 & 4.849341e-01\\\\\n",
       "\tx & 2.066560 & 0.2818719 & 7.3315600 & 2.285410e-09\\\\\n",
       "\\end{tabular}\n"
      ],
      "text/markdown": [
       "\n",
       "A matrix: 2 × 4 of type dbl\n",
       "\n",
       "| <!--/--> | Estimate | Std. Error | t value | Pr(&gt;|t|) |\n",
       "|---|---|---|---|---|\n",
       "| (Intercept) | 6.515304 | 9.2568195 | 0.7038383 | 4.849341e-01 |\n",
       "| x | 2.066560 | 0.2818719 | 7.3315600 | 2.285410e-09 |\n",
       "\n"
      ],
      "text/plain": [
       "            Estimate Std. Error t value   Pr(>|t|)    \n",
       "(Intercept) 6.515304 9.2568195  0.7038383 4.849341e-01\n",
       "x           2.066560 0.2818719  7.3315600 2.285410e-09"
      ]
     },
     "metadata": {},
     "output_type": "display_data"
    }
   ],
   "source": [
    "s1$coefficients"
   ]
  },
  {
   "cell_type": "code",
   "execution_count": 12,
   "id": "462f133d",
   "metadata": {
    "ExecuteTime": {
     "end_time": "2021-11-12T16:20:43.816294Z",
     "start_time": "2021-11-12T16:20:43.756Z"
    }
   },
   "outputs": [
    {
     "name": "stderr",
     "output_type": "stream",
     "text": [
      "Warning message in sqrt(vcovHC(m1, type = \"HC0\")):\n",
      "“NaNs produced”\n"
     ]
    },
    {
     "data": {
      "text/html": [
       "<table>\n",
       "<caption>A matrix: 2 × 2 of type dbl</caption>\n",
       "<thead>\n",
       "\t<tr><th></th><th scope=col>(Intercept)</th><th scope=col>x</th></tr>\n",
       "</thead>\n",
       "<tbody>\n",
       "\t<tr><th scope=row>(Intercept)</th><td>6.789963</td><td>     NaN</td></tr>\n",
       "\t<tr><th scope=row>x</th><td>     NaN</td><td>0.310847</td></tr>\n",
       "</tbody>\n",
       "</table>\n"
      ],
      "text/latex": [
       "A matrix: 2 × 2 of type dbl\n",
       "\\begin{tabular}{r|ll}\n",
       "  & (Intercept) & x\\\\\n",
       "\\hline\n",
       "\t(Intercept) & 6.789963 &      NaN\\\\\n",
       "\tx &      NaN & 0.310847\\\\\n",
       "\\end{tabular}\n"
      ],
      "text/markdown": [
       "\n",
       "A matrix: 2 × 2 of type dbl\n",
       "\n",
       "| <!--/--> | (Intercept) | x |\n",
       "|---|---|---|\n",
       "| (Intercept) | 6.789963 |      NaN |\n",
       "| x |      NaN | 0.310847 |\n",
       "\n"
      ],
      "text/plain": [
       "            (Intercept) x       \n",
       "(Intercept) 6.789963         NaN\n",
       "x                NaN    0.310847"
      ]
     },
     "metadata": {},
     "output_type": "display_data"
    },
    {
     "name": "stderr",
     "output_type": "stream",
     "text": [
      "Warning message in sqrt(vcovHC(m1, type = \"HC1\")):\n",
      "“NaNs produced”\n"
     ]
    },
    {
     "data": {
      "text/html": [
       "<table>\n",
       "<caption>A matrix: 2 × 2 of type dbl</caption>\n",
       "<thead>\n",
       "\t<tr><th></th><th scope=col>(Intercept)</th><th scope=col>x</th></tr>\n",
       "</thead>\n",
       "<tbody>\n",
       "\t<tr><th scope=row>(Intercept)</th><td>6.929977</td><td>      NaN</td></tr>\n",
       "\t<tr><th scope=row>x</th><td>     NaN</td><td>0.3172568</td></tr>\n",
       "</tbody>\n",
       "</table>\n"
      ],
      "text/latex": [
       "A matrix: 2 × 2 of type dbl\n",
       "\\begin{tabular}{r|ll}\n",
       "  & (Intercept) & x\\\\\n",
       "\\hline\n",
       "\t(Intercept) & 6.929977 &       NaN\\\\\n",
       "\tx &      NaN & 0.3172568\\\\\n",
       "\\end{tabular}\n"
      ],
      "text/markdown": [
       "\n",
       "A matrix: 2 × 2 of type dbl\n",
       "\n",
       "| <!--/--> | (Intercept) | x |\n",
       "|---|---|---|\n",
       "| (Intercept) | 6.929977 |       NaN |\n",
       "| x |      NaN | 0.3172568 |\n",
       "\n"
      ],
      "text/plain": [
       "            (Intercept) x        \n",
       "(Intercept) 6.929977          NaN\n",
       "x                NaN    0.3172568"
      ]
     },
     "metadata": {},
     "output_type": "display_data"
    },
    {
     "name": "stderr",
     "output_type": "stream",
     "text": [
      "Warning message in sqrt(vcovHC(m1, type = \"HC2\")):\n",
      "“NaNs produced”\n"
     ]
    },
    {
     "data": {
      "text/html": [
       "<table>\n",
       "<caption>A matrix: 2 × 2 of type dbl</caption>\n",
       "<thead>\n",
       "\t<tr><th></th><th scope=col>(Intercept)</th><th scope=col>x</th></tr>\n",
       "</thead>\n",
       "<tbody>\n",
       "\t<tr><th scope=row>(Intercept)</th><td>7.001162</td><td>      NaN</td></tr>\n",
       "\t<tr><th scope=row>x</th><td>     NaN</td><td>0.3210268</td></tr>\n",
       "</tbody>\n",
       "</table>\n"
      ],
      "text/latex": [
       "A matrix: 2 × 2 of type dbl\n",
       "\\begin{tabular}{r|ll}\n",
       "  & (Intercept) & x\\\\\n",
       "\\hline\n",
       "\t(Intercept) & 7.001162 &       NaN\\\\\n",
       "\tx &      NaN & 0.3210268\\\\\n",
       "\\end{tabular}\n"
      ],
      "text/markdown": [
       "\n",
       "A matrix: 2 × 2 of type dbl\n",
       "\n",
       "| <!--/--> | (Intercept) | x |\n",
       "|---|---|---|\n",
       "| (Intercept) | 7.001162 |       NaN |\n",
       "| x |      NaN | 0.3210268 |\n",
       "\n"
      ],
      "text/plain": [
       "            (Intercept) x        \n",
       "(Intercept) 7.001162          NaN\n",
       "x                NaN    0.3210268"
      ]
     },
     "metadata": {},
     "output_type": "display_data"
    },
    {
     "name": "stderr",
     "output_type": "stream",
     "text": [
      "Warning message in sqrt(vcovHC(m1, type = \"HC3\")):\n",
      "“NaNs produced”\n"
     ]
    },
    {
     "data": {
      "text/html": [
       "<table>\n",
       "<caption>A matrix: 2 × 2 of type dbl</caption>\n",
       "<thead>\n",
       "\t<tr><th></th><th scope=col>(Intercept)</th><th scope=col>x</th></tr>\n",
       "</thead>\n",
       "<tbody>\n",
       "\t<tr><th scope=row>(Intercept)</th><td>7.220336</td><td>      NaN</td></tr>\n",
       "\t<tr><th scope=row>x</th><td>     NaN</td><td>0.3315884</td></tr>\n",
       "</tbody>\n",
       "</table>\n"
      ],
      "text/latex": [
       "A matrix: 2 × 2 of type dbl\n",
       "\\begin{tabular}{r|ll}\n",
       "  & (Intercept) & x\\\\\n",
       "\\hline\n",
       "\t(Intercept) & 7.220336 &       NaN\\\\\n",
       "\tx &      NaN & 0.3315884\\\\\n",
       "\\end{tabular}\n"
      ],
      "text/markdown": [
       "\n",
       "A matrix: 2 × 2 of type dbl\n",
       "\n",
       "| <!--/--> | (Intercept) | x |\n",
       "|---|---|---|\n",
       "| (Intercept) | 7.220336 |       NaN |\n",
       "| x |      NaN | 0.3315884 |\n",
       "\n"
      ],
      "text/plain": [
       "            (Intercept) x        \n",
       "(Intercept) 7.220336          NaN\n",
       "x                NaN    0.3315884"
      ]
     },
     "metadata": {},
     "output_type": "display_data"
    },
    {
     "name": "stderr",
     "output_type": "stream",
     "text": [
      "Warning message in sqrt(vcovHC(m1, type = \"HC4\")):\n",
      "“NaNs produced”\n"
     ]
    },
    {
     "data": {
      "text/html": [
       "<table>\n",
       "<caption>A matrix: 2 × 2 of type dbl</caption>\n",
       "<thead>\n",
       "\t<tr><th></th><th scope=col>(Intercept)</th><th scope=col>x</th></tr>\n",
       "</thead>\n",
       "<tbody>\n",
       "\t<tr><th scope=row>(Intercept)</th><td>7.141109</td><td>    NaN</td></tr>\n",
       "\t<tr><th scope=row>x</th><td>     NaN</td><td>0.32809</td></tr>\n",
       "</tbody>\n",
       "</table>\n"
      ],
      "text/latex": [
       "A matrix: 2 × 2 of type dbl\n",
       "\\begin{tabular}{r|ll}\n",
       "  & (Intercept) & x\\\\\n",
       "\\hline\n",
       "\t(Intercept) & 7.141109 &     NaN\\\\\n",
       "\tx &      NaN & 0.32809\\\\\n",
       "\\end{tabular}\n"
      ],
      "text/markdown": [
       "\n",
       "A matrix: 2 × 2 of type dbl\n",
       "\n",
       "| <!--/--> | (Intercept) | x |\n",
       "|---|---|---|\n",
       "| (Intercept) | 7.141109 |     NaN |\n",
       "| x |      NaN | 0.32809 |\n",
       "\n"
      ],
      "text/plain": [
       "            (Intercept) x      \n",
       "(Intercept) 7.141109        NaN\n",
       "x                NaN    0.32809"
      ]
     },
     "metadata": {},
     "output_type": "display_data"
    }
   ],
   "source": [
    "sqrt(vcovHC(m1, type='HC0')) # white\n",
    "sqrt(vcovHC(m1, type='HC1'))\n",
    "sqrt(vcovHC(m1, type='HC2'))\n",
    "sqrt(vcovHC(m1, type='HC3'))\n",
    "sqrt(vcovHC(m1, type='HC4'))"
   ]
  },
  {
   "cell_type": "code",
   "execution_count": 13,
   "id": "b6da6b88",
   "metadata": {
    "ExecuteTime": {
     "end_time": "2021-11-12T16:25:30.189795Z",
     "start_time": "2021-11-12T16:25:30.169Z"
    }
   },
   "outputs": [
    {
     "data": {
      "text/html": [
       "<table>\n",
       "<caption>A matrix: 2 × 4 of type dbl</caption>\n",
       "<thead>\n",
       "\t<tr><th></th><th scope=col>Estimate</th><th scope=col>Std. Error</th><th scope=col>t value</th><th scope=col>Pr(&gt;|t|)</th></tr>\n",
       "</thead>\n",
       "<tbody>\n",
       "\t<tr><th scope=row>(Intercept)</th><td>6.515304</td><td>9.2568195</td><td>0.7038383</td><td>4.849341e-01</td></tr>\n",
       "\t<tr><th scope=row>x</th><td>2.066560</td><td>0.2818719</td><td>7.3315600</td><td>2.285410e-09</td></tr>\n",
       "</tbody>\n",
       "</table>\n"
      ],
      "text/latex": [
       "A matrix: 2 × 4 of type dbl\n",
       "\\begin{tabular}{r|llll}\n",
       "  & Estimate & Std. Error & t value & Pr(>\\textbar{}t\\textbar{})\\\\\n",
       "\\hline\n",
       "\t(Intercept) & 6.515304 & 9.2568195 & 0.7038383 & 4.849341e-01\\\\\n",
       "\tx & 2.066560 & 0.2818719 & 7.3315600 & 2.285410e-09\\\\\n",
       "\\end{tabular}\n"
      ],
      "text/markdown": [
       "\n",
       "A matrix: 2 × 4 of type dbl\n",
       "\n",
       "| <!--/--> | Estimate | Std. Error | t value | Pr(&gt;|t|) |\n",
       "|---|---|---|---|---|\n",
       "| (Intercept) | 6.515304 | 9.2568195 | 0.7038383 | 4.849341e-01 |\n",
       "| x | 2.066560 | 0.2818719 | 7.3315600 | 2.285410e-09 |\n",
       "\n"
      ],
      "text/plain": [
       "            Estimate Std. Error t value   Pr(>|t|)    \n",
       "(Intercept) 6.515304 9.2568195  0.7038383 4.849341e-01\n",
       "x           2.066560 0.2818719  7.3315600 2.285410e-09"
      ]
     },
     "metadata": {},
     "output_type": "display_data"
    }
   ],
   "source": [
    "s1$coefficients"
   ]
  },
  {
   "cell_type": "code",
   "execution_count": 3,
   "id": "9d9a16c2",
   "metadata": {
    "ExecuteTime": {
     "end_time": "2021-11-16T14:21:17.660294Z",
     "start_time": "2021-11-16T14:21:03.904Z"
    }
   },
   "outputs": [],
   "source": [
    "x <- seq(5,54)\n",
    "\n",
    "bh1 <- bh2 <- se1 <- se2 <- se3 <- c() \n",
    "\n",
    "for (i in 1:5000){\n",
    "    e <- x*rnorm(length(x), 0, 1)\n",
    "    y <- 10+2*x+e\n",
    "\n",
    "    m1 <- summary(lm(y~x))\n",
    "    m2 <- summary(lm(y~x, weights=1/x))\n",
    "    \n",
    "    bh1 <- c(bh1, m1$coefficients[2,1]) \n",
    "    bh2 <- c(bh2, m2$coefficients[2,1]) \n",
    "    se1 <- c(se1, m1$coefficients[2,2]) \n",
    "    se2 <- c(se2, m2$coefficients[2,2]) \n",
    "    se3 <- c(se3, sqrt(vcovHC(lm(y~x), type='HC0')[2,2]))\n",
    "    \n",
    "}\n",
    "\n"
   ]
  },
  {
   "cell_type": "code",
   "execution_count": 17,
   "id": "d3f8c99a",
   "metadata": {
    "ExecuteTime": {
     "end_time": "2021-11-12T16:29:40.866571Z",
     "start_time": "2021-11-12T16:29:40.847Z"
    }
   },
   "outputs": [
    {
     "data": {
      "text/html": [
       "2.00382800135784"
      ],
      "text/latex": [
       "2.00382800135784"
      ],
      "text/markdown": [
       "2.00382800135784"
      ],
      "text/plain": [
       "[1] 2.003828"
      ]
     },
     "metadata": {},
     "output_type": "display_data"
    },
    {
     "data": {
      "text/html": [
       "2.00114031277302"
      ],
      "text/latex": [
       "2.00114031277302"
      ],
      "text/markdown": [
       "2.00114031277302"
      ],
      "text/plain": [
       "[1] 2.00114"
      ]
     },
     "metadata": {},
     "output_type": "display_data"
    }
   ],
   "source": [
    "mean(bh1)\n",
    "mean(bh2)"
   ]
  },
  {
   "cell_type": "code",
   "execution_count": 16,
   "id": "72296db7",
   "metadata": {
    "ExecuteTime": {
     "end_time": "2021-11-12T16:29:08.537016Z",
     "start_time": "2021-11-12T16:29:08.445Z"
    }
   },
   "outputs": [
    {
     "data": {
      "image/png": "[encoded data removed]",
      "text/plain": [
       "Plot with title “Histogram of bh1”"
      ]
     },
     "metadata": {
      "image/png": {
       "height": 420,
       "width": 420
      }
     },
     "output_type": "display_data"
    }
   ],
   "source": [
    "hist(bh1, prob=T)"
   ]
  },
  {
   "cell_type": "code",
   "execution_count": 4,
   "id": "9b716eb2",
   "metadata": {
    "ExecuteTime": {
     "end_time": "2021-11-16T14:21:21.731350Z",
     "start_time": "2021-11-16T14:21:21.529Z"
    }
   },
   "outputs": [
    {
     "data": {
      "image/png": "[encoded data removed]",
      "text/plain": [
       "Plot with title “density.default(x = se1)”"
      ]
     },
     "metadata": {
      "image/png": {
       "height": 420,
       "width": 420
      }
     },
     "output_type": "display_data"
    }
   ],
   "source": [
    "plot(density(se1), ylim=c(0,15))\n",
    "lines(density(se2), col='blue')\n",
    "lines(density(se3), col='red')"
   ]
  }
 ],
 "metadata": {
  "hide_input": false,
  "kernelspec": {
   "display_name": "R 4.0.2",
   "language": "R",
   "name": "ir"
  },
  "language_info": {
   "codemirror_mode": "r",
   "file_extension": ".r",
   "mimetype": "text/x-r-source",
   "name": "R",
   "pygments_lexer": "r",
   "version": "4.0.4"
  },
  "latex_envs": {
   "LaTeX_envs_menu_present": true,
   "autoclose": true,
   "autocomplete": true,
   "bibliofile": "biblio.bib",
   "cite_by": "apalike",
   "current_citInitial": 1,
   "eqLabelWithNumbers": true,
   "eqNumInitial": 1,
   "hotkeys": {
    "equation": "Ctrl-E",
    "itemize": "Ctrl-I"
   },
   "labels_anchors": false,
   "latex_user_defs": false,
   "report_style_numbering": false,
   "user_envs_cfg": false
  },
  "toc": {
   "base_numbering": 1,
   "nav_menu": {},
   "number_sections": true,
   "sideBar": true,
   "skip_h1_title": false,
   "title_cell": "Table of Contents",
   "title_sidebar": "Contents",
   "toc_cell": false,
   "toc_position": {},
   "toc_section_display": true,
   "toc_window_display": false
  },
  "varInspector": {
   "cols": {
    "lenName": 16,
    "lenType": 16,
    "lenVar": 40
   },
   "kernels_config": {
    "python": {
     "delete_cmd_postfix": "",
     "delete_cmd_prefix": "del ",
     "library": "var_list.py",
     "varRefreshCmd": "print(var_dic_list())"
    },
    "r": {
     "delete_cmd_postfix": ") ",
     "delete_cmd_prefix": "rm(",
     "library": "var_list.r",
     "varRefreshCmd": "cat(var_dic_list()) "
    }
   },
   "types_to_exclude": [
    "module",
    "function",
    "builtin_function_or_method",
    "instance",
    "_Feature"
   ],
   "window_display": false
  }
 },
 "nbformat": 4,
 "nbformat_minor": 5
}
